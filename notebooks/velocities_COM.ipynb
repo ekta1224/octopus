{
 "cells": [
  {
   "cell_type": "code",
   "execution_count": 1,
   "metadata": {},
   "outputs": [
    {
     "name": "stdout",
     "output_type": "stream",
     "text": [
      "Populating the interactive namespace from numpy and matplotlib\n"
     ]
    }
   ],
   "source": [
    "%pylab inline\n",
    "import octopus\n",
    "from pygadgetreader import *\n",
    "font = {'size':20, 'family':'serif'}\n",
    "matplotlib.rc('font', **font)"
   ]
  },
  {
   "cell_type": "markdown",
   "metadata": {},
   "source": [
    "## To do:\n",
    "\n",
    "1. Check which is the best radii to compute the V COM (look at sims)\n",
    "2. Decide which one is the best criterium to stop the iteration in radius."
   ]
  },
  {
   "cell_type": "code",
   "execution_count": 2,
   "metadata": {},
   "outputs": [
    {
     "name": "stdout",
     "output_type": "stream",
     "text": [
      "Returning DM    Positions\n",
      "Returning DM    Velocities\n",
      "Returning DM    Particle IDs\n"
     ]
    }
   ],
   "source": [
    "halo_pos = readsnap('../../MW_anisotropy/code/test_snaps/MWLMC5_40M_20new_b0_6_142', 'pos', 'dm')\n",
    "halo_vel = readsnap('../../MW_anisotropy/code/test_snaps/MWLMC5_40M_20new_b0_6_142', 'vel', 'dm')\n",
    "halo_pids = readsnap('../../MW_anisotropy/code/test_snaps/MWLMC5_40M_20new_b0_6_142', 'pid', 'dm')"
   ]
  },
  {
   "cell_type": "code",
   "execution_count": 3,
   "metadata": {
    "collapsed": true
   },
   "outputs": [],
   "source": [
    "MW_pos, MW_vel, LMC_pos, LMC_vel = octopus.MW_LMC_particles(halo_pos, halo_vel,halo_pids, 37500000)"
   ]
  },
  {
   "cell_type": "code",
   "execution_count": 4,
   "metadata": {},
   "outputs": [
    {
     "data": {
      "text/plain": [
       "4500000"
      ]
     },
     "execution_count": 4,
     "metadata": {},
     "output_type": "execute_result"
    }
   ],
   "source": [
    "len(MW_pos)\n",
    "len(LMC_pos)"
   ]
  },
  {
   "cell_type": "code",
   "execution_count": 5,
   "metadata": {},
   "outputs": [
    {
     "name": "stdout",
     "output_type": "stream",
     "text": [
      "0.42688\n"
     ]
    },
    {
     "data": {
      "text/plain": [
       "(array([-27.02234015, -41.17820525,  61.11666339]),\n",
       " array([ -23.98766092,   17.18696156,  135.07748624]))"
      ]
     },
     "execution_count": 5,
     "metadata": {},
     "output_type": "execute_result"
    }
   ],
   "source": [
    "octopus.CM(LMC_pos, LMC_vel)"
   ]
  },
  {
   "cell_type": "code",
   "execution_count": 23,
   "metadata": {},
   "outputs": [],
   "source": [
    "def r_velocities(cm_pos, pos, vel):\n",
    "    R_cm = ((pos[:,0]-cm_pos[0])**2 + (pos[:,1]-cm_pos[1])**2 + (pos[:,2]-cm_pos[2])**2)**0.5\n",
    "    index = np.where(R_cm < 15)[0]\n",
    "    velx_cm = sum(vel[index,0])/len(vel[index,0])\n",
    "    vely_cm = sum(vel[index,1])/len(vel[index,1])\n",
    "    velz_cm = sum(vel[index,2])/len(vel[index,2])\n",
    "    return velx_cm, vely_cm, velz_cm"
   ]
  },
  {
   "cell_type": "code",
   "execution_count": 24,
   "metadata": {},
   "outputs": [
    {
     "name": "stdout",
     "output_type": "stream",
     "text": [
      "(-23.414376210669598, 18.359094757631393, 137.29069248947067)\n"
     ]
    }
   ],
   "source": [
    "v_cm = r_velocities([-27.02234015, -41.17820525,  61.11666339], LMC_pos, LMC_vel)\n",
    "print(v_cm)"
   ]
  },
  {
   "cell_type": "code",
   "execution_count": 6,
   "metadata": {
    "collapsed": true
   },
   "outputs": [],
   "source": [
    "def ss_velocities(cm_pos, pos, vel, delta):\n",
    "    \"\"\"\n",
    "    Core function to compute the V COM as a fuction of the shell radii.\n",
    "    \"\"\"\n",
    "    N_i = len(vel)\n",
    "    N = N_i\n",
    "\n",
    "    vxCM = 0\n",
    "    vyCM = 0\n",
    "    vzCM = 0\n",
    "    vxCM_new = np.zeros(1000)\n",
    "    vyCM_new = np.zeros(1000)\n",
    "    vzCM_new = np.zeros(1000)\n",
    "    vxCM_new[1] = sum(vel[:,0])/N_i\n",
    "    vyCM_new[1] = sum(vel[:,1])/N_i\n",
    "    vzCM_new[1] = sum(vel[:,2])/N_i\n",
    "    i = 1\n",
    "    Rmax = []\n",
    "    #Rmax.append(100)\n",
    "    Rmax.append(0.5)\n",
    "    R = np.sqrt((pos[:,0]-cm_pos[0])**2 + (pos[:,1]-cm_pos[1])**2 + (pos[:,2]-cm_pos[2])**2)\n",
    "    \n",
    "    while ((np.sqrt((vxCM_new[i]-vxCM_new[i-1])**2 + (vyCM_new[i]-vyCM_new[i-1])**2 + (vzCM_new[i]-vzCM_new[i-1])**2) > delta)):\n",
    "                       \n",
    "        # Reducing Sphere by its 2.5%\n",
    "        index = np.where(R<Rmax[i-1]*1.3)[0]\n",
    "        R1 = R[index]\n",
    "        Rmax.append(np.max(R1))\n",
    "        #print(len(index))\n",
    "        vel1 = vel[index]\n",
    "        #print(len(vel))\n",
    "        N = len(vel1)\n",
    "        print(np.max(R1), N)\n",
    "        i+=1\n",
    "\n",
    "        #Computing new CM coordinates and velocities\n",
    "        vxCM_new[i] = np.sum(vel1[:,0])/N\n",
    "        vyCM_new[i] = np.sum(vel1[:,1])/N\n",
    "        vzCM_new[i] = np.sum(vel1[:,2])/N\n",
    "\n",
    "        #print(i)\n",
    "        #print(Rmax[i])\n",
    "        \n",
    "    return  vxCM_new[np.nonzero(vxCM_new)], vyCM_new[np.nonzero(vyCM_new)], vzCM_new[np.nonzero(vzCM_new)], Rmax"
   ]
  },
  {
   "cell_type": "code",
   "execution_count": 7,
   "metadata": {},
   "outputs": [
    {
     "name": "stdout",
     "output_type": "stream",
     "text": [
      "0.64997 2803\n",
      "0.844934 5253\n",
      "1.09839 9227\n",
      "1.42769 15700\n",
      "1.85595 25759\n",
      "2.41271 41713\n",
      "3.13648 65873\n",
      "4.07742 101502\n",
      "5.30063 152403\n",
      "6.89079 222293\n",
      "8.95803 313306\n",
      "11.6454 426365\n",
      "15.139 559001\n",
      "19.6807 714572\n",
      "25.5849 907689\n",
      "33.2604 1150906\n",
      "43.2384 1449628\n",
      "56.2098 1804472\n",
      "73.0727 2210468\n",
      "94.9944 2650484\n",
      "123.493 3071539\n",
      "160.54 3390476\n",
      "208.702 3623785\n",
      "271.312 3804338\n",
      "352.704 3953336\n",
      "458.514 4074917\n",
      "596.065 4174376\n",
      "774.877 4254200\n",
      "1007.33 4314717\n",
      "1309.53 4360136\n",
      "1702.39 4394683\n",
      "2213.1 4420298\n",
      "2877.0 4439750\n",
      "3740.08 4454632\n",
      "4861.79 4466064\n",
      "6319.35 4474915\n",
      "8214.18 4481743\n",
      "10677.4 4486922\n",
      "13880.0 4490952\n",
      "18042.6 4494172\n",
      "23453.9 4496535\n",
      "30489.7 4498347\n",
      "39620.3 4499814\n",
      "41474.2 4500000\n",
      "41474.2 4500000\n"
     ]
    }
   ],
   "source": [
    "vxcm, vycm, vzcm, R = ss_velocities([-27.02234015, -41.17820525,  61.11666339], LMC_pos, LMC_vel, 0.0)"
   ]
  },
  {
   "cell_type": "code",
   "execution_count": 17,
   "metadata": {},
   "outputs": [
    {
     "data": {
      "text/plain": [
       "(-21.06703111111111, -30.612245333333334, 79.730659555555562)"
      ]
     },
     "execution_count": 17,
     "metadata": {},
     "output_type": "execute_result"
    }
   ],
   "source": [
    "v_cm"
   ]
  },
  {
   "cell_type": "code",
   "execution_count": 26,
   "metadata": {},
   "outputs": [
    {
     "data": {
      "text/plain": [
       "(0, 100)"
      ]
     },
     "execution_count": 26,
     "metadata": {},
     "output_type": "execute_result"
    },
    {
     "data": {
      "image/png": "[encoded data removed]",
      "text/plain": [
       "<matplotlib.figure.Figure at 0x7fab7d9ae2e8>"
      ]
     },
     "metadata": {},
     "output_type": "display_data"
    }
   ],
   "source": [
    "figure(figsize=(14,6))\n",
    "subplot(1, 3, 1)\n",
    "plot(R, vxcm, label='$vx_{cm}$')\n",
    "legend()\n",
    "ylabel('$v$[Km/s]')\n",
    "xlabel('$R_{max}$[Kpc]')\n",
    "xlim(0, 100)\n",
    "axhline(v_cm[0])\n",
    "\n",
    "subplot(1, 3, 2)\n",
    "plot(R, vycm, label='$vy_{cm}$')\n",
    "legend()\n",
    "xlabel('$R_{max}$[Kpc]')\n",
    "xlim(0, 100)\n",
    "axhline(v_cm[1])\n",
    "\n",
    "\n",
    "subplot(1, 3, 3)\n",
    "plot(R, vzcm, label='$vz_{cm}$')\n",
    "xlabel('$R_{max}$[Kpc]')\n",
    "legend()\n",
    "axhline(v_cm[2])\n",
    "\n",
    "\n",
    "xlabel('$R_{max}$[Kpc]')\n",
    "xlim(0, 100)"
   ]
  },
  {
   "cell_type": "code",
   "execution_count": null,
   "metadata": {
    "collapsed": true
   },
   "outputs": [],
   "source": []
  },
  {
   "cell_type": "code",
   "execution_count": null,
   "metadata": {
    "collapsed": true
   },
   "outputs": [],
   "source": []
  }
 ],
 "metadata": {
  "kernelspec": {
   "display_name": "Python 3",
   "language": "python",
   "name": "python3"
  },
  "language_info": {
   "codemirror_mode": {
    "name": "ipython",
    "version": 3
   },
   "file_extension": ".py",
   "mimetype": "text/x-python",
   "name": "python",
   "nbconvert_exporter": "python",
   "pygments_lexer": "ipython3",
   "version": "3.5.2"
  }
 },
 "nbformat": 4,
 "nbformat_minor": 2
}
